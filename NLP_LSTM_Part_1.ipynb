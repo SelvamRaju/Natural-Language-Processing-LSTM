{
  "nbformat": 4,
  "nbformat_minor": 0,
  "metadata": {
    "colab": {
      "name": "NLP-LSTM-Part-1.ipynb",
      "provenance": [],
      "authorship_tag": "ABX9TyMzhBZmBBzpddmEbEfTrUEL",
      "include_colab_link": true
    },
    "kernelspec": {
      "name": "python3",
      "display_name": "Python 3"
    },
    "language_info": {
      "name": "python"
    }
  },
  "cells": [
    {
      "cell_type": "markdown",
      "metadata": {
        "id": "view-in-github",
        "colab_type": "text"
      },
      "source": [
        "<a href=\"https://colab.research.google.com/github/SelvamRaju/Natural-Language-Processing-LSTM/blob/main/NLP_LSTM_Part_1.ipynb\" target=\"_parent\"><img src=\"https://colab.research.google.com/assets/colab-badge.svg\" alt=\"Open In Colab\"/></a>"
      ]
    },
    {
      "cell_type": "markdown",
      "source": [
        "# NLP-LSTM-Part-1"
      ],
      "metadata": {
        "id": "55hAASOgrFLu"
      }
    },
    {
      "cell_type": "markdown",
      "source": [
        "### Domain : Digital content and entertainment industry"
      ],
      "metadata": {
        "id": "HjHUANAnrKD7"
      }
    },
    {
      "cell_type": "code",
      "execution_count": 18,
      "metadata": {
        "id": "elUGdZa5q7YM"
      },
      "outputs": [],
      "source": [
        "# Imports\n",
        "import numpy as np\n",
        "from keras.preprocessing import sequence\n",
        "from tensorflow.keras.datasets import imdb"
      ]
    },
    {
      "cell_type": "markdown",
      "source": [
        "1. Import and analyse the data set.\n",
        "Hint: - Use `imdb.load_data()` method\n",
        "- Get train and test set\n",
        "- Take 10000 most frequent words\n"
      ],
      "metadata": {
        "id": "q24umAY-zKRg"
      }
    },
    {
      "cell_type": "code",
      "source": [
        "(X_train, y_train), (X_test, y_test) = imdb.load_data(num_words=10000, maxlen=300)"
      ],
      "metadata": {
        "colab": {
          "base_uri": "https://localhost:8080/"
        },
        "id": "FYl0BIzTznjT",
        "outputId": "b0cf4231-7cc9-4eb6-a63d-0589e76915a9"
      },
      "execution_count": 2,
      "outputs": [
        {
          "output_type": "stream",
          "name": "stdout",
          "text": [
            "Downloading data from https://storage.googleapis.com/tensorflow/tf-keras-datasets/imdb.npz\n",
            "17465344/17464789 [==============================] - 0s 0us/step\n",
            "17473536/17464789 [==============================] - 0s 0us/step\n"
          ]
        }
      ]
    },
    {
      "cell_type": "code",
      "source": [
        "X_train.shape"
      ],
      "metadata": {
        "colab": {
          "base_uri": "https://localhost:8080/"
        },
        "id": "lWX1WUXDz2Fr",
        "outputId": "2a04ef1b-695e-4c28-f696-5d31e8a7e839"
      },
      "execution_count": 3,
      "outputs": [
        {
          "output_type": "execute_result",
          "data": {
            "text/plain": [
              "(19051,)"
            ]
          },
          "metadata": {},
          "execution_count": 3
        }
      ]
    },
    {
      "cell_type": "code",
      "source": [
        "X_test.shape"
      ],
      "metadata": {
        "colab": {
          "base_uri": "https://localhost:8080/"
        },
        "id": "qr4r0KEmz6Ww",
        "outputId": "7f54f41c-8560-428b-abf3-09ede2bca517"
      },
      "execution_count": 4,
      "outputs": [
        {
          "output_type": "execute_result",
          "data": {
            "text/plain": [
              "(19450,)"
            ]
          },
          "metadata": {},
          "execution_count": 4
        }
      ]
    },
    {
      "cell_type": "code",
      "source": [
        "y_train"
      ],
      "metadata": {
        "colab": {
          "base_uri": "https://localhost:8080/"
        },
        "id": "7l58LCbyz_ef",
        "outputId": "45b165d3-480d-45b3-b476-1bba80791f91"
      },
      "execution_count": 5,
      "outputs": [
        {
          "output_type": "execute_result",
          "data": {
            "text/plain": [
              "array([1, 0, 0, ..., 0, 1, 0])"
            ]
          },
          "metadata": {},
          "execution_count": 5
        }
      ]
    },
    {
      "cell_type": "code",
      "source": [
        "y_test"
      ],
      "metadata": {
        "colab": {
          "base_uri": "https://localhost:8080/"
        },
        "id": "qd4Gwqvo0CXS",
        "outputId": "3f80133d-56c9-4be3-8da0-c24eae073e23"
      },
      "execution_count": 6,
      "outputs": [
        {
          "output_type": "execute_result",
          "data": {
            "text/plain": [
              "array([0, 1, 0, ..., 0, 0, 0])"
            ]
          },
          "metadata": {},
          "execution_count": 6
        }
      ]
    },
    {
      "cell_type": "code",
      "source": [
        "#Printing unique labels\n",
        "np.unique(y_train)"
      ],
      "metadata": {
        "colab": {
          "base_uri": "https://localhost:8080/"
        },
        "id": "qR56G-g-0nj4",
        "outputId": "7e6633a7-962e-4be1-b677-5922b88815ff"
      },
      "execution_count": 8,
      "outputs": [
        {
          "output_type": "execute_result",
          "data": {
            "text/plain": [
              "array([0, 1])"
            ]
          },
          "metadata": {},
          "execution_count": 8
        }
      ]
    },
    {
      "cell_type": "code",
      "source": [
        "# Max length of seq. in X_train\n",
        "max(len(i) for i in X_train)"
      ],
      "metadata": {
        "colab": {
          "base_uri": "https://localhost:8080/"
        },
        "id": "2vNMtCEI1Ny3",
        "outputId": "2a852ae7-1c28-4e88-a6d2-491095c337f1"
      },
      "execution_count": 11,
      "outputs": [
        {
          "output_type": "execute_result",
          "data": {
            "text/plain": [
              "299"
            ]
          },
          "metadata": {},
          "execution_count": 11
        }
      ]
    },
    {
      "cell_type": "code",
      "source": [
        "# Max length of seq. in X_test\n",
        "max(len(i) for i in X_test)"
      ],
      "metadata": {
        "colab": {
          "base_uri": "https://localhost:8080/"
        },
        "id": "JUGow8-a2Z98",
        "outputId": "c2e79be2-7bf3-48d2-fe4b-fa7d533ed1aa"
      },
      "execution_count": 12,
      "outputs": [
        {
          "output_type": "execute_result",
          "data": {
            "text/plain": [
              "299"
            ]
          },
          "metadata": {},
          "execution_count": 12
        }
      ]
    },
    {
      "cell_type": "markdown",
      "source": [
        "2. Perform relevant sequence adding on the data\n"
      ],
      "metadata": {
        "id": "ZIcEIXQszNNN"
      }
    },
    {
      "cell_type": "code",
      "source": [
        "# Mean of X_train data\n",
        "np.mean([len(i) for i in X_train])"
      ],
      "metadata": {
        "colab": {
          "base_uri": "https://localhost:8080/"
        },
        "id": "ywYdnFD53m7h",
        "outputId": "fc594bf5-141c-4b47-cc90-25e5811e45dc"
      },
      "execution_count": 14,
      "outputs": [
        {
          "output_type": "execute_result",
          "data": {
            "text/plain": [
              "159.67697233741012"
            ]
          },
          "metadata": {},
          "execution_count": 14
        }
      ]
    },
    {
      "cell_type": "markdown",
      "source": [
        "The maximum length of a review in the data set it 159 and so padding the data to 200"
      ],
      "metadata": {
        "id": "MUuVUgPR4wG2"
      }
    },
    {
      "cell_type": "code",
      "source": [
        "#padding -  200 length\n",
        "X_train_padded = sequence.pad_sequences(X_train, maxlen=200)\n",
        "X_test_padded = sequence.pad_sequences(X_test, maxlen=200)"
      ],
      "metadata": {
        "id": "lJJ4XcA75GFe"
      },
      "execution_count": 19,
      "outputs": []
    },
    {
      "cell_type": "markdown",
      "source": [
        "3. Perform following data analysis:\n",
        "\n",
        "  • Print shape of features and labels\n",
        "  \n",
        "  • Print value of any one feature and it's label\n"
      ],
      "metadata": {
        "id": "ANgdn8PIzQCK"
      }
    },
    {
      "cell_type": "code",
      "source": [
        "print(\"Number of reviews in X_train : \", len(X_train))\n",
        "print(\"Number of reviews in X_test  : \", len(X_test))"
      ],
      "metadata": {
        "colab": {
          "base_uri": "https://localhost:8080/"
        },
        "id": "PsxYNgwyzgzz",
        "outputId": "c50291ce-1452-4a2c-f79f-d0817fd3fc3b"
      },
      "execution_count": 21,
      "outputs": [
        {
          "output_type": "stream",
          "name": "stdout",
          "text": [
            "Number of reviews in X_train :  19051\n",
            "Number of reviews in X_test  :  19450\n"
          ]
        }
      ]
    },
    {
      "cell_type": "code",
      "source": [
        "# Printing the number of words in random two review as a sample - Note : padded to 200\n",
        "\n",
        "print(\"1st reveiw in dataset\", X_train_padded[0].shape[0])\n",
        "print(\"100th reveiw in dataset\", X_train_padded[99].shape[0])"
      ],
      "metadata": {
        "colab": {
          "base_uri": "https://localhost:8080/"
        },
        "id": "7DH8EXUz5u2I",
        "outputId": "9a920d9c-5a2d-466b-cadc-578d9b78abd4"
      },
      "execution_count": 31,
      "outputs": [
        {
          "output_type": "stream",
          "name": "stdout",
          "text": [
            "1st reveiw in dataset 200\n",
            "100th reveiw in dataset 200\n"
          ]
        }
      ]
    },
    {
      "cell_type": "code",
      "source": [
        "print(\"Value 50th review : \", X_train[49])\n",
        "print(\"Label of 50th review : \", y_train[49])"
      ],
      "metadata": {
        "colab": {
          "base_uri": "https://localhost:8080/"
        },
        "id": "EQo-kujt6qOR",
        "outputId": "429deed5-4b7e-4fc8-98db-7f42c464d679"
      },
      "execution_count": 33,
      "outputs": [
        {
          "output_type": "stream",
          "name": "stdout",
          "text": [
            "Value 50th review :  [1, 13, 286, 1017, 76, 5, 8, 30, 1202, 13, 161, 40, 14, 22, 4, 86, 58, 187, 21, 149, 12, 174, 5, 13, 5372, 15, 45, 1932, 646, 252, 45, 6, 31, 975, 22, 21, 45, 6, 163, 3288, 10, 10, 294, 5618, 15, 12, 100, 30, 128, 398, 5, 12, 100, 30, 13, 104, 14, 22, 69, 4, 986, 8, 30, 6, 120, 4, 350, 61, 3242, 2, 21, 19, 6, 189, 3232, 305, 7, 6, 2408, 1038, 45, 6, 1053, 1434, 19, 43, 6, 227, 53, 487, 12, 100, 30, 6, 356, 4, 362, 26, 9673, 225, 57, 282, 138, 36, 144, 2, 23, 8, 3584, 972, 39, 4, 578, 1007, 12, 62, 28, 77, 87, 8, 67, 68, 649, 2, 13, 124, 45, 6, 212, 21, 45, 117, 3855, 15, 3138, 4, 52, 108, 39, 4, 530, 10, 10, 3584, 765, 9, 210, 253, 5, 1728, 24, 8, 760, 2, 175, 58, 59, 5852, 25, 80, 99, 45, 254, 8, 3296, 6, 22, 54, 4, 293, 109, 9, 38, 1220, 5, 12, 66, 9, 41, 1382, 92, 387, 41, 272, 2418, 25, 83, 536, 15, 442, 49, 432, 7, 2, 73, 59, 9, 21, 442, 6, 327, 31, 4, 432, 7, 415, 1390, 387, 168, 103, 129, 362, 586, 387, 41, 3107, 18, 98, 151, 10, 10, 474, 386, 743, 12, 6, 140, 10, 10, 43, 92, 535, 99, 76, 10, 10, 442, 53, 74, 43, 6, 87, 270, 7, 8255, 442, 82, 35, 1048, 2162, 7, 2977]\n",
            "Label of 50th review :  1\n"
          ]
        }
      ]
    },
    {
      "cell_type": "markdown",
      "source": [
        "4. Decode the feature value to get original sentence\n"
      ],
      "metadata": {
        "id": "DKJEsulazSg7"
      }
    },
    {
      "cell_type": "code",
      "source": [
        "#Getting word index from IMDB\n",
        "imdb_word_index = imdb.get_word_index()"
      ],
      "metadata": {
        "colab": {
          "base_uri": "https://localhost:8080/"
        },
        "id": "CkO6PuEI7ag7",
        "outputId": "38c27398-b401-47ea-a925-358b5bed5606"
      },
      "execution_count": 34,
      "outputs": [
        {
          "output_type": "stream",
          "name": "stdout",
          "text": [
            "Downloading data from https://storage.googleapis.com/tensorflow/tf-keras-datasets/imdb_word_index.json\n",
            "1646592/1641221 [==============================] - 0s 0us/step\n",
            "1654784/1641221 [==============================] - 0s 0us/step\n"
          ]
        }
      ]
    },
    {
      "cell_type": "markdown",
      "source": [
        "5. Design, train, tune and test a sequential model.\n",
        "\n",
        "  Hint: The aim here Is to import the text, process it such a way that it can be taken as an inout to the ML/NN\n",
        "classifiers. Be analytical and experimental here in trying new approaches to design the best model.\n"
      ],
      "metadata": {
        "id": "9-2SC5xYzUzC"
      }
    },
    {
      "cell_type": "markdown",
      "source": [
        "6. Use the designed model to print the prediction on any one sample."
      ],
      "metadata": {
        "id": "W8Rd2a9IzWyw"
      }
    }
  ]
}